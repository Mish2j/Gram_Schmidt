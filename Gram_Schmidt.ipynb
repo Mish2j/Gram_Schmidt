{
  "nbformat": 4,
  "nbformat_minor": 0,
  "metadata": {
    "colab": {
      "provenance": [],
      "authorship_tag": "ABX9TyO4Ki2PdIzIR42HQz25HKDO",
      "include_colab_link": true
    },
    "kernelspec": {
      "name": "python3",
      "display_name": "Python 3"
    },
    "language_info": {
      "name": "python"
    }
  },
  "cells": [
    {
      "cell_type": "markdown",
      "metadata": {
        "id": "view-in-github",
        "colab_type": "text"
      },
      "source": [
        "<a href=\"https://colab.research.google.com/github/Mish2j/Gram_Schmidt/blob/main/Gram_Schmidt.ipynb\" target=\"_parent\"><img src=\"https://colab.research.google.com/assets/colab-badge.svg\" alt=\"Open In Colab\"/></a>"
      ]
    },
    {
      "cell_type": "code",
      "execution_count": 7,
      "metadata": {
        "colab": {
          "base_uri": "https://localhost:8080/"
        },
        "id": "klwjV2js9Huh",
        "outputId": "1991482a-6bbd-4f84-ee0d-1dca8c81c650"
      },
      "outputs": [
        {
          "output_type": "stream",
          "name": "stdout",
          "text": [
            "[[ 0.81649658  0.40824829 -0.40824829]\n",
            " [ 0.          0.70710678  0.70710678]\n",
            " [ 0.57735027 -0.57735027  0.57735027]]\n",
            "0.0\n",
            "-1.1102230246251565e-16\n",
            "0.0\n",
            "1.0\n",
            "0.9999999999999999\n",
            "0.9999999999999999\n"
          ]
        }
      ],
      "source": [
        "import numpy as np\n",
        "\n",
        "def gram_schmidt(vectors):\n",
        "\n",
        "  orthonormal_vectors = []\n",
        "\n",
        "  for current_vector in vectors:\n",
        "    orthogonal_vector = current_vector.copy()\n",
        "\n",
        "    for existing_orthonormal_vector in orthonormal_vectors:\n",
        "      projection_coefficient = np.dot(current_vector, existing_orthonormal_vector)/np.dot(existing_orthonormal_vector, existing_orthonormal_vector)\n",
        "      projection = projection_coefficient * existing_orthonormal_vector\n",
        "      orthogonal_vector -= projection\n",
        "\n",
        "    # Normalize the vector to make it unit length\n",
        "    normalized_vector = orthogonal_vector / np.linalg.norm(orthogonal_vector)\n",
        "\n",
        "    orthonormal_vectors.append(normalized_vector)\n",
        "      # projection = dot(existing,orth)/dot(orth,orth) * orth\n",
        "\n",
        "  return np.array(orthonormal_vectors)\n",
        "\n",
        "vector_1 = np.array([2, 1, -1], dtype=float)\n",
        "vector_2 = np.array([1, 1, 0], dtype=float)\n",
        "vector_3 = np.array([0, -1, 1], dtype=float)\n",
        "\n",
        "orthonormal_set = gram_schmidt([vector_1, vector_2, vector_3])\n",
        "\n",
        "print(orthonormal_set)\n",
        "\n",
        "# Verify orthogonality\n",
        "print(np.dot(orthonormal_set[0], orthonormal_set[1]))\n",
        "print(np.dot(orthonormal_set[0], orthonormal_set[2]))\n",
        "print(np.dot(orthonormal_set[1], orthonormal_set[2]))\n",
        "\n",
        "# Verify unit length\n",
        "print(np.linalg.norm(orthonormal_set[0]))\n",
        "print(np.linalg.norm(orthonormal_set[1]))\n",
        "print(np.linalg.norm(orthonormal_set[2]))"
      ]
    }
  ]
}